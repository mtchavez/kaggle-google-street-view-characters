{
 "metadata": {
  "language": "Julia",
  "name": "",
  "signature": "sha256:40a004bb060d602b5a0da8c39ce6846c59a3cd47de00bf36395b50edd9a1fdf3"
 },
 "nbformat": 3,
 "nbformat_minor": 0,
 "worksheets": [
  {
   "cells": [
    {
     "cell_type": "code",
     "collapsed": false,
     "input": [
      "Pkg.add(\"Images\")\n",
      "Pkg.add(\"DataFrames\")\n",
      "using Images\n",
      "using DataFrames"
     ],
     "language": "python",
     "metadata": {},
     "outputs": [
      {
       "output_type": "stream",
       "stream": "stderr",
       "text": [
        "INFO: Cloning cache of Cartesian from git://github.com/timholy/Cartesian.jl.git\n"
       ]
      },
      {
       "output_type": "stream",
       "stream": "stderr",
       "text": [
        "INFO: Cloning cache of Color from git://github.com/JuliaLang/Color.jl.git\n"
       ]
      },
      {
       "output_type": "stream",
       "stream": "stderr",
       "text": [
        "INFO: Cloning cache of Images from git://github.com/timholy/Images.jl.git\n"
       ]
      },
      {
       "output_type": "stream",
       "stream": "stderr",
       "text": [
        "INFO: Cloning cache of SIUnits from git://github.com/Keno/SIUnits.jl.git\n"
       ]
      },
      {
       "output_type": "stream",
       "stream": "stderr",
       "text": [
        "INFO: Cloning cache of TexExtensions from git://github.com/Keno/TexExtensions.jl.git\n"
       ]
      },
      {
       "output_type": "stream",
       "stream": "stderr",
       "text": [
        "INFO: Cloning cache of Zlib from git://github.com/dcjones/Zlib.jl.git\n"
       ]
      },
      {
       "output_type": "stream",
       "stream": "stderr",
       "text": [
        "INFO: Installing Cartesian v0.2.0\n"
       ]
      },
      {
       "output_type": "stream",
       "stream": "stderr",
       "text": [
        "INFO: Installing Color v0.2.10\n"
       ]
      },
      {
       "output_type": "stream",
       "stream": "stderr",
       "text": [
        "INFO: Installing Images v0.2.45\n"
       ]
      },
      {
       "output_type": "stream",
       "stream": "stderr",
       "text": [
        "INFO: Installing SIUnits v0.0.1\n"
       ]
      },
      {
       "output_type": "stream",
       "stream": "stderr",
       "text": [
        "INFO: Installing TexExtensions v0.0.1\n"
       ]
      },
      {
       "output_type": "stream",
       "stream": "stderr",
       "text": [
        "INFO: Installing Zlib v0.1.7\n"
       ]
      },
      {
       "output_type": "stream",
       "stream": "stderr",
       "text": [
        "INFO: Building Homebrew\n"
       ]
      },
      {
       "output_type": "stream",
       "stream": "stdout",
       "text": [
        "HEAD is now at c588ffb Remove git rebasing code that slipped through\n"
       ]
      },
      {
       "output_type": "stream",
       "stream": "stderr",
       "text": [
        "From https://github.com/staticfloat/homebrew-juliadeps\n",
        "   1b85de5..4c5030e  master     -> origin/master\n"
       ]
      },
      {
       "output_type": "stream",
       "stream": "stdout",
       "text": [
        "HEAD is now at 4c5030e Add bottles for newly versioned glpk formulae\n"
       ]
      },
      {
       "output_type": "stream",
       "stream": "stderr",
       "text": [
        " * [new branch]      cleanup    -> origin/cleanup\n"
       ]
      },
      {
       "output_type": "stream",
       "stream": "stderr",
       "text": [
        "INFO: Building Images\n"
       ]
      },
      {
       "output_type": "stream",
       "stream": "stderr",
       "text": [
        "INFO: Package database updated\n"
       ]
      },
      {
       "output_type": "stream",
       "stream": "stderr",
       "text": [
        "INFO: METADATA is out-of-date \u2014 you may not have the latest version of Images\n",
        "INFO: Use `Pkg.update()` to get the latest versions of your packages\n"
       ]
      },
      {
       "output_type": "stream",
       "stream": "stderr",
       "text": [
        "INFO: Cloning cache of ArrayViews from git://github.com/lindahua/ArrayViews.jl.git\n"
       ]
      },
      {
       "output_type": "stream",
       "stream": "stderr",
       "text": [
        "INFO: Cloning cache of DataArrays from git://github.com/JuliaStats/DataArrays.jl.git\n"
       ]
      },
      {
       "output_type": "stream",
       "stream": "stderr",
       "text": [
        "INFO: Cloning cache of DataFrames from git://github.com/JuliaStats/DataFrames.jl.git\n"
       ]
      },
      {
       "output_type": "stream",
       "stream": "stderr",
       "text": [
        "INFO: Cloning cache of GZip from git://github.com/JuliaLang/GZip.jl.git\n"
       ]
      },
      {
       "output_type": "stream",
       "stream": "stderr",
       "text": [
        "INFO: Cloning cache of Reexport from git://github.com/simonster/Reexport.jl.git\n"
       ]
      },
      {
       "output_type": "stream",
       "stream": "stderr",
       "text": [
        "INFO: Cloning cache of SortingAlgorithms from git://github.com/JuliaLang/SortingAlgorithms.jl.git\n"
       ]
      },
      {
       "output_type": "stream",
       "stream": "stderr",
       "text": [
        "INFO: Cloning cache of StatsBase from git://github.com/JuliaStats/StatsBase.jl.git\n"
       ]
      },
      {
       "output_type": "stream",
       "stream": "stderr",
       "text": [
        "INFO: Installing ArrayViews v0.4.6\n"
       ]
      },
      {
       "output_type": "stream",
       "stream": "stderr",
       "text": [
        "INFO: Installing DataArrays v0.1.11\n"
       ]
      },
      {
       "output_type": "stream",
       "stream": "stderr",
       "text": [
        "INFO: Installing DataFrames v0.5.6\n"
       ]
      },
      {
       "output_type": "stream",
       "stream": "stderr",
       "text": [
        "INFO: Installing GZip v0.2.13\n"
       ]
      },
      {
       "output_type": "stream",
       "stream": "stderr",
       "text": [
        "INFO: Installing Reexport v0.0.1\n"
       ]
      },
      {
       "output_type": "stream",
       "stream": "stderr",
       "text": [
        "INFO: Installing SortingAlgorithms v0.0.1\n"
       ]
      },
      {
       "output_type": "stream",
       "stream": "stderr",
       "text": [
        "INFO: Installing StatsBase v0.5.3\n"
       ]
      },
      {
       "output_type": "stream",
       "stream": "stderr",
       "text": [
        "INFO: Package database updated\n"
       ]
      },
      {
       "output_type": "stream",
       "stream": "stderr",
       "text": [
        "INFO: METADATA is out-of-date \u2014 you may not have the latest version of DataFrames\n",
        "INFO: Use `Pkg.update()` to get the latest versions of your packages\n",
        "Warning: New definition \n",
        "    +("
       ]
      },
      {
       "output_type": "stream",
       "stream": "stderr",
       "text": [
        "AbstractArray{Bool,N},DataArray{Bool,N}) at /Users/mtchavez/.julia/v0.3/DataArrays/src/operators.jl:332\n",
        "is ambiguous with: \n",
        "    +(AbstractImageDirect{T,N},AbstractArray{T,N}) at /Users/mtchavez/.julia/v0.3/Images/src/algorithms.jl:14.\n",
        "To fix, define \n",
        "    +(AbstractImageDirect{Bool,N},DataArray{Bool,N})\n",
        "before the new definition.\n",
        "Warning: New definition \n",
        "    +(AbstractArray{T,N},DataArray{T,N}) at /Users/mtchavez/.julia/v0.3/DataArrays/src/operators.jl:332\n",
        "is ambiguous with: \n",
        "    +(AbstractImageDirect{T,N},AbstractArray{T,N}) at /Users/mtchavez/.julia/v0.3/Images/src/algorithms.jl:14.\n",
        "To fix, define \n",
        "    +(AbstractImageDirect{T,N},DataArray{T,N})\n",
        "before the new definition.\n",
        "Warning: New definition \n",
        "    +(AbstractArray{Bool,N},AbstractDataArray{Bool,N}) at /Users/mtchavez/.julia/v0.3/DataArrays/src/operators.jl:356\n",
        "is ambiguous with: \n",
        "    +(AbstractImageDirect{T,N},AbstractArray{T,N}) at /Users/mtchavez/.julia/v0.3/Images/src/algorithms.jl:14.\n",
        "To fix, define \n",
        "    +(AbstractImageDirect{Bool,N},AbstractDataArray{Bool,N})\n",
        "before the new definition.\n",
        "Warning: New definition \n",
        "    +(AbstractArray{T,N},AbstractDataArray{T,N}) at /Users/mtchavez/.julia/v0.3/DataArrays/src/operators.jl:356\n",
        "is ambiguous with: \n",
        "    +(AbstractImageDirect{T,N},AbstractArray{T,N}) at /Users/mtchavez/.julia/v0.3/Images/src/algorithms.jl:14.\n",
        "To fix, define \n",
        "    +(AbstractImageDirect{T,N},AbstractDataArray{T,N})\n",
        "before the new definition.\n",
        "Warning: New definition \n",
        "    -(AbstractArray{Bool,N},DataArray{Bool,N}) at /Users/mtchavez/.julia/v0.3/DataArrays/src/operators.jl:332\n",
        "is ambiguous with: \n",
        "    -(AbstractImageDirect{T,N},AbstractArray{T,N}) at /Users/mtchavez/.julia/v0.3/Images/src/algorithms.jl:25.\n",
        "To fix, define \n",
        "    -(AbstractImageDirect{Bool,N},DataArray{Bool,N})\n",
        "before the new definition.\n",
        "Warning: New definition \n",
        "    -(AbstractArray{T,N},DataArray{T,N}) at /Users/mtchavez/.julia/v0.3/DataArrays/src/operators.jl:332\n",
        "is ambiguous with: \n",
        "    -(AbstractImageDirect{T,N},AbstractArray{T,N}) at /Users/mtchavez/.julia/v0.3/Images/src/algorithms.jl:25.\n",
        "To fix, define \n",
        "    -(AbstractImageDirect{T,N},DataArray{T,N})\n",
        "before the new definition.\n",
        "Warning: New definition \n",
        "    -(AbstractArray{Bool,N},AbstractDataArray{Bool,N}) at /Users/mtchavez/.julia/v0.3/DataArrays/src/operators.jl:356\n",
        "is ambiguous with: \n",
        "    -(AbstractImageDirect{T,N},AbstractArray{T,N}) at /Users/mtchavez/.julia/v0.3/Images/src/algorithms.jl:25.\n",
        "To fix, define \n",
        "    -(AbstractImageDirect{Bool,N},AbstractDataArray{Bool,N})\n",
        "before the new definition.\n",
        "Warning: New definition \n",
        "    -(AbstractArray{T,N},AbstractDataArray{T,N}) at /Users/mtchavez/.julia/v0.3/DataArrays/src/operators.jl:356\n",
        "is ambiguous with: \n",
        "    -(AbstractImageDirect{T,N},AbstractArray{T,N}) at /Users/mtchavez/.julia/v0.3/Images/src/algorithms.jl:25.\n",
        "To fix, define \n",
        "    -(AbstractImageDirect{T,N},AbstractDataArray{T,N})\n",
        "before the new definition.\n",
        "Warning: New definition \n",
        "    .*("
       ]
      },
      {
       "output_type": "stream",
       "stream": "stderr",
       "text": [
        "Union(DataArray{T,N},PooledDataArray{T,R<:Integer,N}),AbstractArray{T,N}...) at /Users/mtchavez/.julia/v0.3/DataArrays/src/broadcast.jl:281\n",
        "is ambiguous with: \n",
        "    .*(AbstractArray{T,N},AbstractImageDirect{T,N}) at /Users/mtchavez/.julia/v0.3/Images/src/algorithms.jl:40.\n",
        "To fix, define \n",
        "    .*(Union(DataArray{T,N},PooledDataArray{T,R<:Integer,N}),AbstractImageDirect{T,N})\n",
        "before the new definition.\n",
        "Warning: New definition \n",
        "    .*(AbstractArray{T,N},Union(DataArray{T,N},PooledDataArray{T,R<:Integer,N}),AbstractArray{T,N}...) at /Users/mtchavez/.julia/v0.3/DataArrays/src/broadcast.jl:281\n",
        "is ambiguous with: \n",
        "    .*(AbstractImageDirect{T,N},AbstractArray{T,N}) at /Users/mtchavez/.julia/v0.3/Images/src/algorithms.jl:39.\n",
        "To fix, define \n",
        "    .*(AbstractImageDirect{T,N},Union(DataArray{T,N},PooledDataArray{T,R<:Integer,N}))\n",
        "before the new definition.\n",
        "Warning: New definition \n",
        "    .+(AbstractArray{T,N},Union(DataArray{T,N},PooledDataArray{T,R<:Integer,N}),AbstractArray{T,N}...) at /Users/mtchavez/.julia/v0.3/DataArrays/src/broadcast.jl:283\n",
        "is ambiguous with: \n",
        "    .+(AbstractImageDirect{T,N},AbstractArray{T,N}) at /Users/mtchavez/.julia/v0.3/Images/src/algorithms.jl:16.\n",
        "To fix, define \n",
        "    .+(AbstractImageDirect{T,N},Union(DataArray{T,N},PooledDataArray{T,R<:Integer,N}))\n",
        "before the new definition.\n",
        "Warning: New definition \n",
        "    .-(AbstractArray{T,N},Union(DataArray{T,N},PooledDataArray{T,R<:Integer,N})) at /Users/mtchavez/.julia/v0.3/DataArrays/src/broadcast.jl:271\n",
        "is ambiguous with: \n",
        "    .-(AbstractImageDirect{T,N},AbstractArray{T,N}) at /Users/mtchavez/.julia/v0.3/Images/src/algorithms.jl:28.\n",
        "To fix, define \n",
        "    .-(AbstractImageDirect{T,N},Union(DataArray{T,N},PooledDataArray{T,R<:Integer,N}))\n",
        "before the new definition.\n",
        "Warning: New definition \n",
        "    ./(AbstractArray{T,N},Union(DataArray{T,N},PooledDataArray{T,R<:Integer,N})) at /Users/mtchavez/.julia/v0.3/DataArrays/src/broadcast.jl:271\n",
        "is ambiguous with: \n",
        "    ./(AbstractImageDirect{T,N},AbstractArray{T,N}) at /Users/mtchavez/.julia/v0.3/Images/src/algorithms.jl:43.\n",
        "To fix, define \n",
        "    ./(AbstractImageDirect{T,N},Union(DataArray{T,N},PooledDataArray{T,R<:Integer,N}))\n",
        "before the new definition.\n",
        "Warning: New definition \n",
        "    .==("
       ]
      },
      {
       "output_type": "stream",
       "stream": "stderr",
       "text": [
        "AbstractArray{Bool,N},Union(PooledDataArray{Bool,R<:Integer,N},DataArray{Bool,N})) at /Users/mtchavez/.julia/v0.3/DataArrays/src/broadcast.jl:316\n",
        "is ambiguous with: \n",
        "    .==(AbstractImageDirect{Bool,N},AbstractArray{Bool,N}) at /Users/mtchavez/.julia/v0.3/Images/src/algorithms.jl:92.\n",
        "To fix, define \n",
        "    .==(AbstractImageDirect{Bool,N},Union(PooledDataArray{Bool,R<:Integer,N},DataArray{Bool,N}))\n",
        "before the new definition.\n",
        "Warning: New definition \n",
        "    .==(AbstractArray{T,N},Union(DataArray{T,N},PooledDataArray{T,R<:Integer,N})) at /Users/mtchavez/.julia/v0.3/DataArrays/src/broadcast.jl:271\n",
        "is ambiguous with: \n",
        "    .==(AbstractImageDirect{Bool,N},AbstractArray{Bool,N}) at /Users/mtchavez/.julia/v0.3/Images/src/algorithms.jl:92.\n",
        "To fix, define \n",
        "    .==(AbstractImageDirect{Bool,N},Union(PooledDataArray{Bool,R<:Integer,N},DataArray{Bool,N}))\n",
        "before the new definition.\n",
        "Warning: New definition \n",
        "    .==(AbstractArray{T,N},Union(DataArray{T,N},PooledDataArray{T,R<:Integer,N})) at /Users/mtchavez/.julia/v0.3/DataArrays/src/broadcast.jl:271\n",
        "is ambiguous with: \n",
        "    .==(AbstractImageDirect{T,N},AbstractArray{T,N}) at /Users/mtchavez/.julia/v0.3/Images/src/algorithms.jl:93.\n",
        "To fix, define \n",
        "    .==(AbstractImageDirect{T,N},Union(DataArray{T,N},PooledDataArray{T,R<:Integer,N}))\n",
        "before the new definition.\n",
        "Warning: New definition \n",
        "    .>(AbstractArray{Bool,N},Union(PooledDataArray{Bool,R<:Integer,N},DataArray{Bool,N})) at /Users/mtchavez/.julia/v0.3/DataArrays/src/broadcast.jl:316\n",
        "is ambiguous with: \n",
        "    .>(AbstractImageDirect{T,N},AbstractArray{T,N}) at /Users/mtchavez/.julia/v0.3/Images/src/algorithms.jl:90.\n",
        "To fix, define \n",
        "    .>(AbstractImageDirect{Bool,N},Union(PooledDataArray{Bool,R<:Integer,N},DataArray{Bool,N}))\n",
        "before the new definition.\n",
        "Warning: New definition \n",
        "    .>(AbstractArray{T,N},Union(DataArray{T,N},PooledDataArray{T,R<:Integer,N})) at /Users/mtchavez/.julia/v0.3/DataArrays/src/broadcast.jl:271\n",
        "is ambiguous with: \n",
        "    .>(AbstractImageDirect{T,N},AbstractArray{T,N}) at /Users/mtchavez/.julia/v0.3/Images/src/algorithms.jl:90.\n",
        "To fix, define \n",
        "    .>(AbstractImageDirect{T,N},Union(DataArray{T,N},PooledDataArray{T,R<:Integer,N}))\n",
        "before the new definition.\n",
        "Warning: New definition \n",
        "    .<(AbstractArray{Bool,N},Union(PooledDataArray{Bool,R<:Integer,N},DataArray{Bool,N})) at /Users/mtchavez/.julia/v0.3/DataArrays/src/broadcast.jl:316\n",
        "is ambiguous with: \n",
        "    .<(AbstractImageDirect{Bool,N},AbstractArray{Bool,N}) at /Users/mtchavez/.julia/v0.3/Images/src/algorithms.jl:88.\n",
        "To fix, define \n",
        "    .<(AbstractImageDirect{Bool,N},Union(PooledDataArray{Bool,R<:Integer,N},DataArray{Bool,N}))\n",
        "before the new definition.\n",
        "Warning: New definition \n",
        "    .<(AbstractArray{T,N},Union(DataArray{T,N},PooledDataArray{T,R<:Integer,N})) at /Users/mtchavez/.julia/v0.3/DataArrays/src/broadcast.jl:271\n",
        "is ambiguous with: \n",
        "    .<(AbstractImageDirect{Bool,N},AbstractArray{Bool,N}) at /Users/mtchavez/.julia/v0.3/Images/src/algorithms.jl:88.\n",
        "To fix, define \n",
        "    .<(AbstractImageDirect{Bool,N},Union(PooledDataArray{Bool,R<:Integer,N},DataArray{Bool,N}))\n",
        "before the new definition.\n",
        "Warning: New definition \n",
        "    .<(AbstractArray{T,N},Union(DataArray{T,N},PooledDataArray{T,R<:Integer,N})) at /Users/mtchavez/.julia/v0.3/DataArrays/src/broadcast.jl:271\n",
        "is ambiguous with: \n",
        "    .<(AbstractImageDirect{T,N},AbstractArray{T,N}) at /Users/mtchavez/.julia/v0.3/Images/src/algorithms.jl:89.\n",
        "To fix, define \n",
        "    .<(AbstractImageDirect{T,N},Union(DataArray{T,N},PooledDataArray{T,R<:Integer,N}))"
       ]
      }
     ],
     "prompt_number": 1
    },
    {
     "cell_type": "code",
     "collapsed": false,
     "input": [
      "#typeData could be either \"train\" or \"test.\n",
      "#labelsInfo should contain the IDs of each image to be read\n",
      "#The images in the trainResized and testResized data files\n",
      "#are 20x20 pixels, so imageSize is set to 400.\n",
      "#path should be set to the location of the data files.\n",
      "\n",
      "function read_data(typeData, labelsInfo, imageSize, path)\n",
      " #Intialize x matrix\n",
      " x = zeros(size(labelsInfo, 1), imageSize)\n",
      "\n",
      " for (index, idImage) in enumerate(labelsInfo[\"ID\"]) \n",
      "  #Read image file \n",
      "  nameFile = \"$(path)/$(typeData)Resized/$(idImage).Bmp\"\n",
      "  img = imread(nameFile)\n",
      "\n",
      "  #Convert img to float values \n",
      "  temp = float32sc(img)\n",
      "\n",
      "  #Convert color images to gray images\n",
      "  #by taking the average of the color scales. \n",
      "  if ndims(temp) == 3\n",
      "   temp = mean(temp.data, 1)\n",
      "  end\n",
      "    \n",
      "  #Transform image matrix to a vector and store \n",
      "  #it in data matrix \n",
      "  x[index, :] = reshape(temp, 1, imageSize)\n",
      " end \n",
      " return x\n",
      "end"
     ],
     "language": "python",
     "metadata": {},
     "outputs": [
      {
       "metadata": {},
       "output_type": "pyout",
       "prompt_number": 2,
       "text": [
        "read_data (generic function with 1 method)"
       ]
      },
      {
       "output_type": "stream",
       "stream": "stderr",
       "text": [
        "\n",
        "before the new definition.\n"
       ]
      }
     ],
     "prompt_number": 2
    },
    {
     "cell_type": "code",
     "collapsed": false,
     "input": [
      "imageSize = 400 # 20 x 20 pixel\n",
      "\n",
      "#Set location of data files, folders\n",
      "path = abspath(\"./data\")\n",
      "\n",
      "#Read information about training data , IDs.\n",
      "labelsInfoTrain = readtable(\"$(path)/trainLabels.csv\")\n",
      "\n",
      "#Read training matrix\n",
      "xTrain = read_data(\"train\", labelsInfoTrain, imageSize, path)\n",
      "\n",
      "#Read information about test data ( IDs ).\n",
      "labelsInfoTest = readtable(\"$(path)/sampleSubmission.csv\")\n",
      "\n",
      "#Read test matrix\n",
      "xTest = read_data(\"test\", labelsInfoTest, imageSize, path)"
     ],
     "language": "python",
     "metadata": {},
     "outputs": [
      {
       "output_type": "stream",
       "stream": "stderr",
       "text": [
        "WARNING: OSX reader: indexed color images not implemented\n",
        "WARNING: OSX reader: indexed color images not implemented\n"
       ]
      },
      {
       "output_type": "stream",
       "stream": "stderr",
       "text": [
        "WARNING: OSX reader: indexed color images not implemented\n"
       ]
      },
      {
       "output_type": "stream",
       "stream": "stderr",
       "text": [
        "WARNING: OSX reader: indexed color images not implemented\n"
       ]
      },
      {
       "output_type": "stream",
       "stream": "stderr",
       "text": [
        "WARNING: OSX reader: indexed color images not implemented\n"
       ]
      },
      {
       "metadata": {},
       "output_type": "pyout",
       "prompt_number": 8,
       "text": [
        "6220x400 Array{Float64,2}:\n",
        " 0.470588  0.469281  0.46536   0.469281  \u2026  0.504575  0.499346  0.490196\n",
        " 0.284967  0.291503  0.315033  0.30719      0.435294  0.287582  0.301961\n",
        " 0.115033  0.15817   0.160784  0.162092     0.147712  0.147712  0.105882\n",
        " 0.586928  0.546405  0.571242  0.526797     0.552941  0.576471  0.581699\n",
        " 0.496732  0.520261  0.550327  0.564706     0.572549  0.585621  0.541176\n",
        " 0.550327  0.546405  0.546405  0.54902   \u2026  0.524183  0.501961  0.495425\n",
        " 0.156863  0.201307  0.211765  0.194771     0.160784  0.179085  0.169935\n",
        " 0.752941  0.75817   0.733333  0.762092     0.751634  0.796079  0.769935\n",
        " 0.708497  0.694118  0.687582  0.696732     0.64183   0.666667  0.698039\n",
        " 0.886275  0.886275  0.886275  0.886275     0.899347  0.904575  0.922876\n",
        " 0.245752  0.226144  0.222222  0.25098   \u2026  0.233987  0.253595  0.271895\n",
        " 0.738562  0.752941  0.780392  0.781699     0.779085  0.785621  0.781699\n",
        " 0.405229  0.405229  0.430065  0.426144     0.385621  0.407843  0.405229\n",
        " \u22ee                                       \u22f1                              \n",
        " 0.479739  0.475817  0.487582  0.499346     0.138562  0.133333  0.211765\n",
        " 0.488889  0.482353  0.488889  0.490196     0.901961  0.545098  0.505882\n",
        " 0.320261  0.392157  0.437909  0.512418  \u2026  0.337255  0.321569  0.31634 \n",
        " 0.752941  0.711111  0.713726  0.720262     0.721569  0.713726  0.726797\n",
        " 0.419608  0.430065  0.436601  0.427451     0.398693  0.4       0.381699\n",
        " 0.24183   0.257516  0.245752  0.248366     0.248366  0.260131  0.249673\n",
        " 0.479739  0.477124  0.482353  0.46536      0.490196  0.484967  0.47451 \n",
        " 0.428758  0.426144  0.424837  0.424837  \u2026  0.418301  0.413072  0.410458\n",
        " 0.494118  0.579085  0.576471  0.576471     0.556863  0.585621  0.515033\n",
        " 0.379085  0.393464  0.396078  0.397386     0.381699  0.381699  0.368627\n",
        " 0.626144  0.59085   0.639216  0.607843     0.652288  0.568627  0.563399\n",
        " 0.437909  0.462745  0.431373  0.413072     0.520261  0.623529  0.420915"
       ]
      }
     ],
     "prompt_number": 8
    },
    {
     "cell_type": "code",
     "collapsed": false,
     "input": [
      "#Get only first character of string (convert from string to character).\n",
      "#Apply the function to each element of the column \"Class\"\n",
      "yTrain = map(x -> x[1], labelsInfoTrain[\"Class\"])\n",
      "\n",
      "#Convert from character to integer\n",
      "yTrain = int(yTrain)"
     ],
     "language": "python",
     "metadata": {},
     "outputs": [
      {
       "output_type": "stream",
       "stream": "stderr",
       "text": [
        "WARNING: indexing DataFrames with strings is deprecated; use symbols instead\n",
        " in getindex at /Users/mtchavez/.julia/v0.3/DataFrames/src/deprecated.jl:170\n",
        " in include_string at loading.jl:97\n",
        " in execute_request_0x535c5df2 at /Users/mtchavez/.julia/v0.3/IJulia/src/execute_request.jl:139\n",
        " in eventloop at /Users/mtchavez/.julia/v0.3/IJulia/src/IJulia.jl:74\n",
        " in anonymous at task.jl:335\n"
       ]
      },
      {
       "metadata": {},
       "output_type": "pyout",
       "prompt_number": 9,
       "text": [
        "6283-element Array{Int64,1}:\n",
        " 110\n",
        "  56\n",
        "  84\n",
        "  73\n",
        "  82\n",
        "  87\n",
        "  76\n",
        " 108\n",
        "  75\n",
        "  71\n",
        "  65\n",
        "  65\n",
        "  67\n",
        "   \u22ee\n",
        " 116\n",
        "  83\n",
        " 101\n",
        " 108\n",
        "  79\n",
        "  82\n",
        "  76\n",
        "  78\n",
        "  73\n",
        "  80\n",
        "  78\n",
        "  82"
       ]
      }
     ],
     "prompt_number": 9
    },
    {
     "cell_type": "code",
     "collapsed": false,
     "input": [
      "Pkg.add(\"DecisionTree\")\n",
      "using DecisionTree\n",
      "\n",
      "#Train random forest with\n",
      "#20 for number of features chosen at each random split,\n",
      "#50 for number of trees,\n",
      "#and 1.0 for ratio of subsampling.\n",
      "model = build_forest(yTrain, xTrain, 20, 50, 1.0)"
     ],
     "language": "python",
     "metadata": {},
     "outputs": [
      {
       "output_type": "stream",
       "stream": "stderr",
       "text": [
        "INFO: Cloning cache of DecisionTree from git://github.com/bensadeghi/DecisionTree.jl.git\n"
       ]
      },
      {
       "output_type": "stream",
       "stream": "stderr",
       "text": [
        "INFO: Installing DecisionTree v0.3.3\n"
       ]
      },
      {
       "output_type": "stream",
       "stream": "stderr",
       "text": [
        "INFO: Package database updated\n"
       ]
      },
      {
       "output_type": "stream",
       "stream": "stderr",
       "text": [
        "INFO: METADATA is out-of-date \u2014 you may not have the latest version of DecisionTree\n",
        "INFO: Use `Pkg.update()` to get the latest versions of your packages\n"
       ]
      },
      {
       "metadata": {},
       "output_type": "pyout",
       "prompt_number": 10,
       "text": [
        "Ensemble of Decision Trees\n",
        "Trees:      50\n",
        "Avg Leaves: 2219.46\n",
        "Avg Depth:  19.22"
       ]
      }
     ],
     "prompt_number": 10
    },
    {
     "cell_type": "code",
     "collapsed": false,
     "input": [
      "#Get predictions for test data\n",
      "predTest = apply_forest(model, xTest)"
     ],
     "language": "python",
     "metadata": {},
     "outputs": []
    },
    {
     "cell_type": "code",
     "collapsed": false,
     "input": [
      "#Get predictions for test data\n",
      "predTest = apply_forest(model, xTest)\n",
      "\n",
      "#Convert integer predictions to character\n",
      "labelsInfoTest[\"Class\"] = char(predTest)\n",
      "{}\n",
      "#Save predictions\n",
      "writetable(\"$(path)/juliaSubmission.csv\", labelsInfoTest, separator=',', header=true)"
     ],
     "language": "python",
     "metadata": {},
     "outputs": []
    },
    {
     "cell_type": "code",
     "collapsed": false,
     "input": [
      "accuracy = nfoldCV_forest(yTrain, xTrain, 20, 50, 4, 1.0);\n",
      "println (\"4 fold accuracy: $(mean(accuracy))\")"
     ],
     "language": "python",
     "metadata": {},
     "outputs": []
    },
    {
     "cell_type": "code",
     "collapsed": false,
     "input": [],
     "language": "python",
     "metadata": {},
     "outputs": []
    }
   ],
   "metadata": {}
  }
 ]
}