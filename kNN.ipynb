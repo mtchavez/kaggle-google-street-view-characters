{
 "metadata": {
  "language": "Julia",
  "name": "",
  "signature": "sha256:fe474499d408f37e1cd0cc7717afa6fbdae73e06bd54757b555379796bb2df0b"
 },
 "nbformat": 3,
 "nbformat_minor": 0,
 "worksheets": [
  {
   "cells": [
    {
     "cell_type": "code",
     "collapsed": false,
     "input": [
      "Pkg.add(\"Images\")\n",
      "Pkg.add(\"DataFrames\")\n",
      "using Images\n",
      "using DataFrames"
     ],
     "language": "python",
     "metadata": {},
     "outputs": [
      {
       "output_type": "stream",
       "stream": "stderr",
       "text": [
        "INFO: Nothing to be done\n"
       ]
      },
      {
       "output_type": "stream",
       "stream": "stderr",
       "text": [
        "INFO: METADATA is out-of-date \u2014 you may not have the latest version of Images\n",
        "INFO: Use `Pkg.update()` to get the latest versions of your packages\n",
        "INFO: Nothing to be done\n"
       ]
      },
      {
       "output_type": "stream",
       "stream": "stderr",
       "text": [
        "INFO: METADATA is out-of-date \u2014 you may not have the latest version of DataFrames\n",
        "INFO: Use `Pkg.update()` to get the latest versions of your packages\n"
       ]
      }
     ],
     "prompt_number": 54
    },
    {
     "cell_type": "code",
     "collapsed": false,
     "input": [
      "#typeData could be either \"train\" or \"test.\n",
      "#labelsInfo should contain the IDs of each image to be read\n",
      "#The images in the trainResized and testResized data files\n",
      "#are 20x20 pixels, so imageSize is set to 400.\n",
      "#path should be set to the location of the data files.\n",
      "\n",
      "function read_data(typeData, labelsInfo, imageSize, path)\n",
      " #Intialize x matrix\n",
      " x = zeros(size(labelsInfo, 1), imageSize)\n",
      "\n",
      " for (index, idImage) in enumerate(labelsInfo[\"ID\"]) \n",
      "  #Read image file \n",
      "  nameFile = \"$(path)/$(typeData)Resized/$(idImage).Bmp\"\n",
      "  img = imread(nameFile)\n",
      "\n",
      "  #Convert img to float values \n",
      "  temp = float32sc(img)\n",
      "\n",
      "  #Convert color images to gray images\n",
      "  #by taking the average of the color scales. \n",
      "  if ndims(temp) == 3\n",
      "   temp = mean(temp.data, 1)\n",
      "  end\n",
      "    \n",
      "  #Transform image matrix to a vector and store \n",
      "  #it in data matrix \n",
      "  x[index, :] = reshape(temp, 1, imageSize)\n",
      " end \n",
      " return x\n",
      "end"
     ],
     "language": "python",
     "metadata": {},
     "outputs": [
      {
       "metadata": {},
       "output_type": "pyout",
       "prompt_number": 55,
       "text": [
        "read_data (generic function with 1 method)"
       ]
      }
     ],
     "prompt_number": 55
    },
    {
     "cell_type": "code",
     "collapsed": false,
     "input": [
      "imageSize = 400 # 20 x 20 pixel\n",
      "\n",
      "#Set location of data files, folders\n",
      "path = abspath(\"./data\")\n",
      "\n",
      "#Read information about training data , IDs.\n",
      "labelsInfoTrain = readtable(\"$(path)/trainLabels.csv\")\n",
      "\n",
      "#Read training matrix\n",
      "xTrain = read_data(\"train\", labelsInfoTrain, imageSize, path)\n",
      "\n",
      "#Read information about test data ( IDs ).\n",
      "labelsInfoTest = readtable(\"$(path)/sampleSubmission.csv\")\n",
      "\n",
      "#Read test matrix\n",
      "xTest = read_data(\"test\", labelsInfoTest, imageSize, path)"
     ],
     "language": "python",
     "metadata": {},
     "outputs": [
      {
       "output_type": "stream",
       "stream": "stderr",
       "text": [
        "WARNING: indexing DataFrames with strings is deprecated; use symbols instead\n",
        " in getindex at /Users/mtchavez/.julia/v0.3/DataFrames/src/deprecated.jl:170\n",
        " in read_data at In[55]:11\n",
        " in include_string at loading.jl:97\n",
        " in execute_request_0x535c5df2 at /Users/mtchavez/.julia/v0.3/IJulia/src/execute_request.jl:139\n",
        " in eventloop at /Users/mtchavez/.julia/v0.3/IJulia/src/IJulia.jl:74\n",
        " in anonymous at task.jl:335\n",
        "WARNING: OSX reader: indexed color images not implemented\n"
       ]
      },
      {
       "output_type": "stream",
       "stream": "stderr",
       "text": [
        "WARNING: OSX reader: indexed color images not implemented\n"
       ]
      },
      {
       "output_type": "stream",
       "stream": "stderr",
       "text": [
        "WARNING: OSX reader: indexed color images not implemented\n"
       ]
      },
      {
       "output_type": "stream",
       "stream": "stderr",
       "text": [
        "WARNING: OSX reader: indexed color images not implemented\n"
       ]
      },
      {
       "output_type": "stream",
       "stream": "stderr",
       "text": [
        "WARNING: OSX reader: indexed color images not implemented\n"
       ]
      },
      {
       "metadata": {},
       "output_type": "pyout",
       "prompt_number": 56,
       "text": [
        "6220x400 Array{Float64,2}:\n",
        " 0.470588  0.469281  0.46536   0.469281  \u2026  0.504575  0.499346  0.490196\n",
        " 0.284967  0.291503  0.315033  0.30719      0.435294  0.287582  0.301961\n",
        " 0.115033  0.15817   0.160784  0.162092     0.147712  0.147712  0.105882\n",
        " 0.586928  0.546405  0.571242  0.526797     0.552941  0.576471  0.581699\n",
        " 0.496732  0.520261  0.550327  0.564706     0.572549  0.585621  0.541176\n",
        " 0.550327  0.546405  0.546405  0.54902   \u2026  0.524183  0.501961  0.495425\n",
        " 0.156863  0.201307  0.211765  0.194771     0.160784  0.179085  0.169935\n",
        " 0.752941  0.75817   0.733333  0.762092     0.751634  0.796079  0.769935\n",
        " 0.708497  0.694118  0.687582  0.696732     0.64183   0.666667  0.698039\n",
        " 0.886275  0.886275  0.886275  0.886275     0.899347  0.904575  0.922876\n",
        " 0.245752  0.226144  0.222222  0.25098   \u2026  0.233987  0.253595  0.271895\n",
        " 0.738562  0.752941  0.780392  0.781699     0.779085  0.785621  0.781699\n",
        " 0.405229  0.405229  0.430065  0.426144     0.385621  0.407843  0.405229\n",
        " \u22ee                                       \u22f1                              \n",
        " 0.479739  0.475817  0.487582  0.499346     0.138562  0.133333  0.211765\n",
        " 0.488889  0.482353  0.488889  0.490196     0.901961  0.545098  0.505882\n",
        " 0.320261  0.392157  0.437909  0.512418  \u2026  0.337255  0.321569  0.31634 \n",
        " 0.752941  0.711111  0.713726  0.720262     0.721569  0.713726  0.726797\n",
        " 0.419608  0.430065  0.436601  0.427451     0.398693  0.4       0.381699\n",
        " 0.24183   0.257516  0.245752  0.248366     0.248366  0.260131  0.249673\n",
        " 0.479739  0.477124  0.482353  0.46536      0.490196  0.484967  0.47451 \n",
        " 0.428758  0.426144  0.424837  0.424837  \u2026  0.418301  0.413072  0.410458\n",
        " 0.494118  0.579085  0.576471  0.576471     0.556863  0.585621  0.515033\n",
        " 0.379085  0.393464  0.396078  0.397386     0.381699  0.381699  0.368627\n",
        " 0.626144  0.59085   0.639216  0.607843     0.652288  0.568627  0.563399\n",
        " 0.437909  0.462745  0.431373  0.413072     0.520261  0.623529  0.420915"
       ]
      }
     ],
     "prompt_number": 56
    },
    {
     "cell_type": "code",
     "collapsed": false,
     "input": [
      "#Get only first character of string (convert from string to character).\n",
      "#Apply the function to each element of the column \"Class\"\n",
      "yTrain = map(x -> x[1], labelsInfoTrain[\"Class\"])\n",
      "\n",
      "#Convert from character to integer\n",
      "yTrain = int(yTrain)"
     ],
     "language": "python",
     "metadata": {},
     "outputs": [
      {
       "metadata": {},
       "output_type": "pyout",
       "prompt_number": 57,
       "text": [
        "6283-element Array{Int64,1}:\n",
        " 110\n",
        "  56\n",
        "  84\n",
        "  73\n",
        "  82\n",
        "  87\n",
        "  76\n",
        " 108\n",
        "  75\n",
        "  71\n",
        "  65\n",
        "  65\n",
        "  67\n",
        "   \u22ee\n",
        " 116\n",
        "  83\n",
        " 101\n",
        " 108\n",
        "  79\n",
        "  82\n",
        "  76\n",
        "  78\n",
        "  73\n",
        "  80\n",
        "  78\n",
        "  82"
       ]
      }
     ],
     "prompt_number": 57
    },
    {
     "cell_type": "code",
     "collapsed": false,
     "input": [
      "addprocs(4) \n",
      "#This line adds 4 parallel processes to the program \n",
      "#increasing the speed by a factor of approximately 4.     \n",
      "#You can choose a different number if you have more \n",
      "#available cores in your machine."
     ],
     "language": "python",
     "metadata": {},
     "outputs": [
      {
       "metadata": {},
       "output_type": "pyout",
       "prompt_number": 58,
       "text": [
        "4-element Array{Any,1}:\n",
        " 6\n",
        " 7\n",
        " 8\n",
        " 9"
       ]
      }
     ],
     "prompt_number": 58
    },
    {
     "cell_type": "code",
     "collapsed": false,
     "input": [
      "# Transpose test and training sets\n",
      "# So we can iterate over columns instead\n",
      "# of rows (faster in Julia){}\n",
      "xTrain = xTrain'\n",
      "xTest = xTest'"
     ],
     "language": "python",
     "metadata": {},
     "outputs": [
      {
       "metadata": {},
       "output_type": "pyout",
       "prompt_number": 59,
       "text": [
        "400x6220 Array{Float64,2}:\n",
        " 0.470588  0.284967  0.115033  0.586928  \u2026  0.379085  0.626144  0.437909\n",
        " 0.469281  0.291503  0.15817   0.546405     0.393464  0.59085   0.462745\n",
        " 0.46536   0.315033  0.160784  0.571242     0.396078  0.639216  0.431373\n",
        " 0.469281  0.30719   0.162092  0.526797     0.397386  0.607843  0.413072\n",
        " 0.462745  0.31634   0.162092  0.569935     0.393464  0.597386  0.389542\n",
        " 0.456209  0.346405  0.162092  0.603922  \u2026  0.392157  0.597386  0.392157\n",
        " 0.48366   0.355556  0.166013  0.562092     0.396078  0.602614  0.431373\n",
        " 0.48366   0.342484  0.16732   0.571242     0.381699  0.6       0.512418\n",
        " 0.470588  0.34902   0.168627  0.535948     0.384314  0.620915  0.694118\n",
        " 0.48366   0.372549  0.164706  0.560784     0.389542  0.631373  0.819608\n",
        " 0.479739  0.372549  0.164706  0.581699  \u2026  0.393464  0.6       0.862745\n",
        " 0.477124  0.385621  0.164706  0.589543     0.384314  0.635294  0.870588\n",
        " 0.47451   0.396078  0.163399  0.586928     0.396078  0.611765  0.803922\n",
        " \u22ee                                       \u22f1                              \n",
        " 0.486275  0.456209  0.162092  0.484967     0.380392  0.618301  0.443137\n",
        " 0.494118  0.46536   0.159477  0.373856     0.379085  0.613072  0.456209\n",
        " 0.509804  0.449673  0.15817   0.252288  \u2026  0.376471  0.630065  0.435294\n",
        " 0.501961  0.448366  0.155556  0.28366      0.368627  0.601307  0.464052\n",
        " 0.501961  0.453595  0.151634  0.237908     0.369935  0.624837  0.464052\n",
        " 0.498039  0.454902  0.147712  0.237908     0.376471  0.594771  0.464052\n",
        " 0.498039  0.454902  0.146405  0.262745     0.373856  0.624837  0.453595\n",
        " 0.508497  0.444445  0.146405  0.257516  \u2026  0.36732   0.610457  0.445752\n",
        " 0.50719   0.454902  0.147712  0.394771     0.369935  0.598693  0.413072\n",
        " 0.504575  0.435294  0.147712  0.552941     0.381699  0.652288  0.520261\n",
        " 0.499346  0.287582  0.147712  0.576471     0.381699  0.568627  0.623529\n",
        " 0.490196  0.301961  0.105882  0.581699     0.368627  0.563399  0.420915"
       ]
      }
     ],
     "prompt_number": 59
    },
    {
     "cell_type": "code",
     "collapsed": false,
     "input": [
      "# Use for loop for performance instead\n",
      "# of vectorized calculation\n",
      "@everywhere function euclidean_distance(a, b)\n",
      " distance = 0.0 \n",
      " for index in 1:size(a, 1) \n",
      "  distance += (a[index]-b[index]) * (a[index]-b[index])\n",
      " end\n",
      " return distance\n",
      "end"
     ],
     "language": "python",
     "metadata": {},
     "outputs": [],
     "prompt_number": 60
    },
    {
     "cell_type": "code",
     "collapsed": false,
     "input": [
      "#This function finds the k nearest neighbors of the ith data point.\n",
      "@everywhere function get_k_nearest_neighbors(xTrain, imageI, k)\n",
      " nRows, nCols = size(xTrain) \n",
      " imageJ = Array(Float32, nRows)\n",
      " distances = Array(Float32, nCols) \n",
      " for j in 1:nCols\n",
      "  for index in 1:nRows\n",
      "   imageJ[index] = xTrain[index, j]\n",
      "  end\n",
      "  distances[j] = euclidean_distance(imageI, imageJ)\n",
      " end\n",
      " sortedNeighbors = sortperm(distances)\n",
      " kNearestNeighbors = sortedNeighbors[1:k]\n",
      " return kNearestNeighbors\n",
      "end "
     ],
     "language": "python",
     "metadata": {},
     "outputs": [],
     "prompt_number": 82
    },
    {
     "cell_type": "code",
     "collapsed": false,
     "input": [
      "#This function assigns a label to the ith point according to\n",
      "#the labels of the k nearest neighbors. The training\n",
      "#data is stored in the X matrix, and its labels are stored in y.\n",
      "\n",
      "@everywhere function assign_label(x, y, k, i)\n",
      " kNearestNeighbors = get_k_nearest_neighbors(x, i, k)\n",
      " \n",
      " #let's make a dictionary to save the counts of \n",
      " #the labels\n",
      " # Dict{}() is also right .\n",
      " # Int,Int indicates the dictionary to expect integer values \n",
      " counts = Dict{Int, Int}() \n",
      "\n",
      " #The next two variables keep track of the \n",
      " #label with the highest count.\n",
      " highestCount = 0\n",
      " mostPopularLabel = 0\n",
      "\n",
      " #Iterating over the labels of the k nearest neighbors\n",
      " for n in kNearestNeighbors\n",
      "  labelOfN = y[n]\n",
      "  #Adding the current label to our dictionary\n",
      "  #if it's not already there\n",
      "  if !haskey(counts, labelOfN)\n",
      "   counts[labelOfN] = 0\n",
      "  end\n",
      "  #Add one to the count\n",
      "  counts[labelOfN] += 1 \n",
      "\n",
      "  if counts[labelOfN] > highestCount\n",
      "   highestCount = counts[labelOfN]\n",
      "   mostPopularLabel = labelOfN\n",
      "  end \n",
      " end\n",
      " return mostPopularLabel\n",
      "end"
     ],
     "language": "python",
     "metadata": {},
     "outputs": [],
     "prompt_number": 62
    },
    {
     "cell_type": "code",
     "collapsed": false,
     "input": [
      "# Non-parallelized\n",
      "# In this example, we use a value of 1 for k.\n",
      "# k=1 \n",
      "# yPredictions = [assign_label(xTrain, yTrain, k, i) for i in 1:size(xTrain, 2)]\n",
      "\n",
      "#This line runs the for loop in parallel \n",
      "#and saves the results in yPredictions.\n",
      "k = 1\n",
      "yPredictions = @parallel (vcat) for i in 1:size(xTrain, 2)\n",
      " assign_label(xTrain, yTrain, k, i)\n",
      "end"
     ],
     "language": "python",
     "metadata": {},
     "outputs": [
      {
       "metadata": {},
       "output_type": "pyout",
       "prompt_number": 19,
       "text": [
        "6283-element Array{Int64,1}:\n",
        " 110\n",
        " 101\n",
        "  86\n",
        "  73\n",
        "  65\n",
        " 102\n",
        "  76\n",
        "  73\n",
        "  69\n",
        "  78\n",
        "  65\n",
        "  65\n",
        "  69\n",
        "   \u22ee\n",
        "  73\n",
        "  85\n",
        "  97\n",
        " 108\n",
        "  79\n",
        "  82\n",
        "  76\n",
        "  78\n",
        "  73\n",
        " 101\n",
        "  78\n",
        "  67"
       ]
      }
     ],
     "prompt_number": 19
    },
    {
     "cell_type": "code",
     "collapsed": false,
     "input": [
      "#The . makes an element-wise comparison\n",
      "loofCvAccuracy = mean(yPredictions .== yTrain) \n",
      "println(\"The LOOF-CV accuracy of 1NN is $(loofCvAccuracy)\")\n",
      "\n",
      "#This is also an example of a vectorized \n",
      "#operation that Julia is also capable of doing."
     ],
     "language": "python",
     "metadata": {},
     "outputs": [
      {
       "output_type": "stream",
       "stream": "stdout",
       "text": [
        "The LOOF-CV accuracy of 1NN is 0.42798026420499763\n"
       ]
      }
     ],
     "prompt_number": 20
    },
    {
     "cell_type": "code",
     "collapsed": false,
     "input": [
      "#Similar to function assign_label.\n",
      "#Only changes are commented\n",
      "@everywhere function assign_label_each_k(x, y, maxK, i)\n",
      " kNearestNeighbors = get_k_nearest_neighbors(x, i, maxK) \n",
      "\n",
      " #The next array will keep the labels for each value of k\n",
      " labelsK = zeros(Int, 1, maxK) \n",
      "\n",
      " counts = Dict{Int, Int}()\n",
      " highestCount = 0\n",
      " mostPopularLabel = 0\n",
      "\n",
      " #We need to keep track of the current value of k\n",
      " for (k, n) in enumerate(kNearestNeighbors)\n",
      "  labelOfN = y[n]\n",
      "  if !haskey(counts, labelOfN)\n",
      "   counts[labelOfN] = 0\n",
      "  end\n",
      "  counts[labelOfN] += 1\n",
      "  if counts[labelOfN] > highestCount\n",
      "   highestCount = counts[labelOfN]\n",
      "   mostPopularLabel = labelOfN  \n",
      "  end\n",
      "  #Save current most popular label \n",
      "  labelsK[k] = mostPopularLabel\n",
      " end\n",
      " #Return vector of labels for each k\n",
      " return labelsK\n",
      "end"
     ],
     "language": "python",
     "metadata": {},
     "outputs": [],
     "prompt_number": 39
    },
    {
     "cell_type": "code",
     "collapsed": false,
     "input": [
      "maxK = 20 #Any value can be chosen\n",
      "yPredictionsK = @parallel (vcat) for i in 1:size(xTrain, 2)\n",
      " assign_label_each_k(xTrain, yTrain, maxK, i)\n",
      "end"
     ],
     "language": "python",
     "metadata": {},
     "outputs": [
      {
       "metadata": {},
       "output_type": "pyout",
       "prompt_number": 22,
       "text": [
        "6283x20 Array{Int64,2}:\n",
        " 110  110  110  110  110  110  110  110  \u2026  110  110  110  110  110  110  110\n",
        " 101  101  101  101  101  101  101  101     101  101  101  101  101  101  101\n",
        "  86   86   86   86   84   84   84   84      73   73   73   73   73   73   73\n",
        "  73   73   73   73   84   84   84   84      84   84   84   84   84   84   84\n",
        "  65   65   65   65   65   48   48   48      48   48   48   48   48   48   48\n",
        " 102  102  102  102  102  109  109  109  \u2026  109  109  109  109  109  109  109\n",
        "  76   76   76   76   76   76   76   76      76   76   76   76   76   76   76\n",
        "  73   73   73   73   73   73   73   73      73   73   73   73   73   73   73\n",
        "  69   69   69   69   69   69   69   69      69   69   69   69   69   69   69\n",
        "  78   78   78   97   97   97   97   97      97   97   97   97   97   97   97\n",
        "  65   65   65   65   65   65   65   65  \u2026   65   65   65   65   65   65   65\n",
        "  65   65   65   65   65   65   65   65      65   65   65   65   65   65   65\n",
        "  69   69   69   69   69   69   69   69      69   69   69   69   65   65   65\n",
        "   \u22ee                        \u22ee            \u22f1              \u22ee                    \n",
        "  73   73   73   73  105  105  105  105      73   73  116  116  116  116  116\n",
        "  85   85   85   85   85   85   85   85     104  104  104  104  104  104  104\n",
        "  97   97   97   82   82   82   82   82      82   82   82   82   82   82   82\n",
        " 108  108  108  105  105  105  105  105     105  105  105  105  105  105  105\n",
        "  79   79   79   79   79   79   79   79  \u2026   79   79   79   79   79   79   79\n",
        "  82   82   72   72   72   72   72   72      72   72   72   72   72   72   72\n",
        "  76   76   76   76   76   76   76   76      69   69   69   69   69   69   69\n",
        "  78   78   78   78   78   78  101  101     101  101  101  101  101  101  101\n",
        "  73   73   73   73   73   73   73   73      73   73   73   73   73   73   73\n",
        " 101  101  101  101  101  101  101  101  \u2026  101   80   80   80   80   80   80\n",
        "  78   78   78   78   78   78   78   78      78   78   78   78   78   78   78\n",
        "  67   67   67   67   67   67   67   79      79   79   79   79   79   79   79"
       ]
      }
     ],
     "prompt_number": 22
    },
    {
     "cell_type": "code",
     "collapsed": false,
     "input": [
      "for k in 1:maxK\n",
      " accuracyK = mean(yTrain .== yPredictionsK[:, k])\n",
      " println(\"The LOOF-CV accuracy of $(k)-NN is $(accuracyK)\")\n",
      "end"
     ],
     "language": "python",
     "metadata": {},
     "outputs": [
      {
       "output_type": "stream",
       "stream": "stdout",
       "text": [
        "The LOOF-CV accuracy of 1-NN is 0.42798026420499763\n"
       ]
      },
      {
       "output_type": "stream",
       "stream": "stdout",
       "text": [
        "The LOOF-CV accuracy of 2-NN is 0.42798026420499763\n",
        "The LOOF-CV accuracy of 3-NN is 0.4286169027534617\n",
        "The LOOF-CV accuracy of 4-NN is 0.4211363998090084\n",
        "The LOOF-CV accuracy of 5-NN is 0.41301925831609104\n",
        "The LOOF-CV accuracy of 6-NN is 0.406971192105682\n",
        "The LOOF-CV accuracy of 7-NN is 0.39853573133853254\n",
        "The LOOF-CV accuracy of 8-NN is 0.39630749641890817\n",
        "The LOOF-CV accuracy of 9-NN is 0.39216934585389146\n",
        "The LOOF-CV accuracy of 10-NN is 0.3886678338373388\n",
        "The LOOF-CV accuracy of 11-NN is 0.3865987585548305\n",
        "The LOOF-CV accuracy of 12-NN is 0.38309724653827787\n",
        "The LOOF-CV accuracy of 13-NN is 0.378004138150565\n",
        "The LOOF-CV accuracy of 14-NN is 0.37657170141652074\n",
        "The LOOF-CV accuracy of 15-NN is 0.37593506286805667\n",
        "The LOOF-CV accuracy of 16-NN is 0.3729110297628521\n",
        "The LOOF-CV accuracy of 17-NN is 0.3695686773834156\n",
        "The LOOF-CV accuracy of 18-NN is 0.3679770810122553\n",
        "The LOOF-CV accuracy of 19-NN is 0.3692503581091835\n",
        "The LOOF-CV accuracy of 20-NN is 0.36718128282667517\n"
       ]
      }
     ],
     "prompt_number": 23
    },
    {
     "cell_type": "code",
     "collapsed": false,
     "input": [
      "println(\"Running kNN on test data\")\n",
      "tic()\n",
      "k = 3 # The CV accuracy shows this value to be the best.\n",
      "yPredictions = @parallel (vcat) for i in 1:size(xTest, 2)\n",
      " nRows = size(xTrain, 1)\n",
      " imageI = Array(Float32, nRows)\n",
      " for index in 1:nRows\n",
      "  imageI[index] = xTest[index, i]\n",
      " end\n",
      " assign_label(xTrain, yTrain, k, imageI)\n",
      "end\n",
      "toc()"
     ],
     "language": "python",
     "metadata": {},
     "outputs": [
      {
       "output_type": "stream",
       "stream": "stdout",
       "text": [
        "Running kNN on test data\n"
       ]
      },
      {
       "output_type": "stream",
       "stream": "stdout",
       "text": [
        "elapsed time: 17"
       ]
      },
      {
       "output_type": "stream",
       "stream": "stdout",
       "text": [
        ".352982044 seconds\n"
       ]
      },
      {
       "metadata": {},
       "output_type": "pyout",
       "prompt_number": 83,
       "text": [
        "17.352982044"
       ]
      }
     ],
     "prompt_number": 83
    },
    {
     "cell_type": "code",
     "collapsed": false,
     "input": [
      "#Convert integer predictions to character\n",
      "labelsInfoTest[:Class] = char(yPredictions)\n",
      "\n",
      "#Save predictions\n",
      "writetable(\"$(path)/juliaKNNSubmission.csv\", labelsInfoTest, separator=',', header=true)"
     ],
     "language": "python",
     "metadata": {},
     "outputs": [],
     "prompt_number": 84
    }
   ],
   "metadata": {}
  }
 ]
}